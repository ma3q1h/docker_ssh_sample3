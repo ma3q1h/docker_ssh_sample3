{
 "cells": [
  {
   "cell_type": "code",
   "execution_count": null,
   "id": "a9c56737",
   "metadata": {},
   "outputs": [],
   "source": [
    "#python path\n",
    "import sys\n",
    "print(sys.version)\n",
    "print(sys.path)"
   ]
  },
  {
   "cell_type": "code",
   "execution_count": null,
   "id": "8c735ebe",
   "metadata": {},
   "outputs": [],
   "source": [
    "#python ver.\n",
    "!python -V"
   ]
  },
  {
   "cell_type": "code",
   "execution_count": null,
   "id": "062b6b57",
   "metadata": {},
   "outputs": [],
   "source": [
    "#cuda ver.\n",
    "!nvcc -V"
   ]
  },
  {
   "cell_type": "code",
   "execution_count": null,
   "id": "5552e47b",
   "metadata": {},
   "outputs": [],
   "source": [
    "#nvidia smi\n",
    "!nvidia-smi"
   ]
  },
  {
   "cell_type": "code",
   "execution_count": null,
   "id": "4dbb4b03",
   "metadata": {},
   "outputs": [],
   "source": [
    "#torch\n",
    "import torch\n",
    "for i in range(torch.cuda.device_count()):\n",
    "    info = torch.cuda.get_device_properties(i)\n",
    "    print(f\"CUDA:{i} {info.name}, {info.total_memory / 1024 ** 2}MB\")\n",
    "\n",
    "print(\"------------------------------\")\n",
    "print(f\"version: {torch.__version__}\")\n",
    "print(f\"available: {torch.cuda.is_available()}\")\n",
    "print(f\"count: {torch.cuda.device_count()}\")\n",
    "for i in range(0,torch.cuda.device_count()):\n",
    "    print(f\"GPU {i}: {torch.cuda.get_device_name(i)}\")\n",
    "    print(f\"GPU {i}: {torch.cuda.get_device_capability(i)}\")\n",
    "print(f\"default: {torch.cuda.current_device()}\")"
   ]
  },
  {
   "cell_type": "code",
   "execution_count": null,
   "id": "462a82fc",
   "metadata": {},
   "outputs": [],
   "source": []
  }
 ],
 "metadata": {
  "kernelspec": {
   "display_name": "docker",
   "language": "python",
   "name": "docker"
  },
  "language_info": {
   "codemirror_mode": {
    "name": "ipython",
    "version": 3
   },
   "file_extension": ".py",
   "mimetype": "text/x-python",
   "name": "python",
   "nbconvert_exporter": "python",
   "pygments_lexer": "ipython3",
   "version": "3.9.17"
  }
 },
 "nbformat": 4,
 "nbformat_minor": 5
}
